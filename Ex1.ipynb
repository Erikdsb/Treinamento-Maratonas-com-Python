{
  "nbformat": 4,
  "nbformat_minor": 0,
  "metadata": {
    "colab": {
      "name": "Untitled16.ipynb",
      "provenance": []
    },
    "kernelspec": {
      "name": "python3",
      "display_name": "Python 3"
    },
    "language_info": {
      "name": "python"
    }
  },
  "cells": [
    {
      "cell_type": "code",
      "metadata": {
        "id": "4ALTY8w2r22U"
      },
      "source": [
        "A = int(input())\n",
        "B = int(input())\n",
        "\n",
        "X = A + B\n",
        "\n",
        "print(\"X =\", X)"
      ],
      "execution_count": null,
      "outputs": []
    }
  ]
}