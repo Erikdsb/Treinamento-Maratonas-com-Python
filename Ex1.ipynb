{
  "nbformat": 4,
  "nbformat_minor": 0,
  "metadata": {
    "colab": {
      "name": "Untitled15.ipynb",
      "provenance": [],
      "collapsed_sections": []
    },
    "kernelspec": {
      "name": "python3",
      "display_name": "Python 3"
    },
    "language_info": {
      "name": "python"
    }
  },
  "cells": [
    {
      "cell_type": "code",
      "metadata": {
        "colab": {
          "base_uri": "https://localhost:8080/"
        },
        "id": "iOfZ3zEUVkm1",
        "outputId": "c65bdfa6-6ecf-4311-b5dd-8bda3d2baf15"
      },
      "source": [
        "A = 1\n",
        "B = 1\n",
        "\n",
        "X = A + B\n",
        "\n",
        "print(\"X = \", X)"
      ],
      "execution_count": 1,
      "outputs": [
        {
          "output_type": "stream",
          "text": [
            "X =  3\n"
          ],
          "name": "stdout"
        }
      ]
    }
  ]
}